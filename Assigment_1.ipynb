{
  "nbformat": 4,
  "nbformat_minor": 0,
  "metadata": {
    "colab": {
      "name": "Assigment 1",
      "version": "0.3.2",
      "provenance": [],
      "collapsed_sections": [],
      "include_colab_link": true
    },
    "kernelspec": {
      "name": "python3",
      "display_name": "Python 3"
    }
  },
  "cells": [
    {
      "cell_type": "markdown",
      "metadata": {
        "id": "view-in-github",
        "colab_type": "text"
      },
      "source": [
        "<a href=\"https://colab.research.google.com/github/HarryPham357/HarryPham12705796/blob/master/Assigment_1.ipynb\" target=\"_parent\"><img src=\"https://colab.research.google.com/assets/colab-badge.svg\" alt=\"Open In Colab\"/></a>"
      ]
    },
    {
      "cell_type": "markdown",
      "metadata": {
        "id": "pURGMIu9dEWZ",
        "colab_type": "text"
      },
      "source": [
        ""
      ]
    },
    {
      "cell_type": "markdown",
      "metadata": {
        "id": "NCz8e_UvdUTw",
        "colab_type": "text"
      },
      "source": [
        "TASK\n",
        "The goal of this assignment is to develop your skill in reading the machine learning literature. Being able to read and\n",
        "understand journal and conference papers and to critique them is an essential skill in your education in data mining,\n",
        "machine learning and artificial intelligence. Also, you can take this skill to other areas of computing.\n",
        "You will write a report on the paper you choose. Your report will explain in your own words what the paper is about\n",
        "and will critique it. Your report should be drafted as a Jupyter/Colab notebook with the following structure:\n",
        "\n",
        "\n",
        "Title\n",
        "\n",
        "Introduction\n",
        "\n",
        "Content Describe in your own words what the paper is about and what the main challenge or problem it attempted to\n",
        "resolve.\n",
        "\n",
        "\n",
        "Innovation How innovative is the research work in the paper? Here you should describe the “novelty” of the paper.\n",
        "What does the paper contribute: a new method? an algorithm? a methodology? a comparison between methods? or\n",
        "something else?\n",
        "\n",
        "\n",
        "Technical quality How would you rate the technical quality of the work in the paper? Here you should consider the\n",
        "quality of the work done. For example, a paper comparing classifiers on the basis of their accuracy on a training set\n",
        "would be of poor quality because generally the accuracy measured on a training set is higher than the actual test error.\n",
        "Other indicators of poor quality might be that the results in the paper could not be replicated by someone reading the\n",
        "paper (because they were not described clearly enough); a comparison was made between two things but the two\n",
        "things couldn’t fairly be compared; or conclusions were drawn from too few experiments.\n",
        "\n",
        "\n",
        "Application and X-factor Do you think the application domain is appropriate for the proposed technique? What other\n",
        "application domains could the research work be applied? Also in this section, give a couple of suggestions for further\n",
        "developments of the research work. Do you think the work described in the paper could spark a good discussion in\n",
        "class? What did you find interesting about the work?\n",
        "\n",
        "\n",
        "Presentation How would you rate the quality of the presentation of the paper? Things you could consider here\n",
        "include: how easy it was to follow the argument in the paper; presentation style; depth of the argument; and clarity of\n",
        "the presentation.\n",
        "\n",
        "\n",
        "References To answer the questions above in your report you will need to read other books or papers. List any\n",
        "references to other papers and books you read here. Referencing should be in the Harvard format. See the information\n",
        "at the UTS Library http://www.lib.uts.edu.au/help/referencing.\n",
        "The size of the report should suit the need to clearly express your ideas. The following word counts can be considered\n",
        "as a typical volume for each section:\n",
        "\n",
        "\n",
        "Content: 300\n",
        "Innovation: 300\n",
        "Technical Quality: 200\n",
        "Application and X-Factor: 200\n",
        "Presentation: 100\n",
        "\n",
        "\n",
        "You can make good use of a notebook to collect references and experimenting with your ideas, e.g. to test if your\n",
        "understanding of the work is accurate, or to examine the time or storage complexity of an algorithm. You can include\n",
        "any relevant content in the \"Draft and Experiment Area\" section in your notebook. It is for your own reference and\n",
        "experiments. We will not mark the content there and plagiarism check won't apply either. "
      ]
    }
  ]
}