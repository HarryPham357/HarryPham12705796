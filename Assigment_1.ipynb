{
  "nbformat": 4,
  "nbformat_minor": 0,
  "metadata": {
    "colab": {
      "name": "Assigment 1",
      "version": "0.3.2",
      "provenance": [],
      "collapsed_sections": [],
      "include_colab_link": true
    },
    "kernelspec": {
      "name": "python3",
      "display_name": "Python 3"
    }
  },
  "cells": [
    {
      "cell_type": "markdown",
      "metadata": {
        "id": "view-in-github",
        "colab_type": "text"
      },
      "source": [
        "<a href=\"https://colab.research.google.com/github/HarryPham357/HarryPham12705796/blob/master/Assigment_1.ipynb\" target=\"_parent\"><img src=\"https://colab.research.google.com/assets/colab-badge.svg\" alt=\"Open In Colab\"/></a>"
      ]
    },
    {
      "cell_type": "markdown",
      "metadata": {
        "id": "pURGMIu9dEWZ",
        "colab_type": "text"
      },
      "source": [
        "https://github.com/HarryPham357/HarryPham12705796"
      ]
    },
    {
      "cell_type": "markdown",
      "metadata": {
        "id": "jKNTHUFXbdbV",
        "colab_type": "text"
      },
      "source": [
        ""
      ]
    },
    {
      "cell_type": "markdown",
      "metadata": {
        "id": "GdnmRplgbdmy",
        "colab_type": "text"
      },
      "source": [
        ""
      ]
    },
    {
      "cell_type": "markdown",
      "metadata": {
        "id": "NCz8e_UvdUTw",
        "colab_type": "text"
      },
      "source": [
        "\n",
        "\n",
        "\n",
        "Title\n",
        "\n",
        "Introduction\n",
        "\n",
        "Content "
      ]
    },
    {
      "cell_type": "markdown",
      "metadata": {
        "id": "A6oL3X3FaYMa",
        "colab_type": "text"
      },
      "source": [
        "**INOVATION**\n",
        "\n"
      ]
    },
    {
      "cell_type": "markdown",
      "metadata": {
        "id": "GMDz4zenaYYI",
        "colab_type": "text"
      },
      "source": [
        "**TECHNICAL QUALITY**"
      ]
    },
    {
      "cell_type": "markdown",
      "metadata": {
        "id": "XhATyT2baYl5",
        "colab_type": "text"
      },
      "source": [
        "**APPLICATION and X-FACTOR**"
      ]
    },
    {
      "cell_type": "markdown",
      "metadata": {
        "id": "3eeTWdYJa3gW",
        "colab_type": "text"
      },
      "source": [
        "**PRESENTATION**\n"
      ]
    },
    {
      "cell_type": "markdown",
      "metadata": {
        "id": "ueNU2j15a684",
        "colab_type": "text"
      },
      "source": [
        "**REFERENCES**"
      ]
    }
  ]
}